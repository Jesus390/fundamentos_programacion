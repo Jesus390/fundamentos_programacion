{
 "cells": [
  {
   "cell_type": "markdown",
   "id": "6a245993-9ca8-4768-8de4-82cc68df547a",
   "metadata": {},
   "source": [
    "# Nodo"
   ]
  },
  {
   "cell_type": "code",
   "execution_count": 127,
   "id": "2bbbd90b-283d-4723-a90f-ca7684402a76",
   "metadata": {},
   "outputs": [
    {
     "name": "stdout",
     "output_type": "stream",
     "text": [
      "Hola None\n",
      "Nodo: <__main__.Nodo object at 0x000002AE98317700>\n",
      "Dato: Hola\n",
      "Siguiente: None\n",
      "Nodos: <__main__.Nodos object at 0x000002AE983326E0>\n",
      "Tipo: <class '__main__.Nodos'>\n",
      "\n",
      "Mundo <__main__.Nodo object at 0x000002AE98317700>\n",
      "Hola None\n",
      "Nodo: <__main__.Nodo object at 0x000002AE9853C850>\n",
      "Dato: Mundo\n",
      "Siguiente: <__main__.Nodo object at 0x000002AE98317700>\n",
      "Nodos: <__main__.Nodos object at 0x000002AE983326E0>\n",
      "Tipo: <class '__main__.Nodos'>\n",
      "\n",
      "ajaxathan <__main__.Nodo object at 0x000002AE9853C850>\n",
      "Mundo <__main__.Nodo object at 0x000002AE98317700>\n",
      "Hola None\n",
      "Nodo: <__main__.Nodo object at 0x000002AE98352DA0>\n",
      "Dato: ajaxathan\n",
      "Siguiente: <__main__.Nodo object at 0x000002AE9853C850>\n",
      "Nodos: <__main__.Nodos object at 0x000002AE983326E0>\n",
      "Tipo: <class '__main__.Nodos'>\n",
      "\n",
      "Jesus390 <__main__.Nodo object at 0x000002AE98352DA0>\n",
      "ajaxathan <__main__.Nodo object at 0x000002AE9853C850>\n",
      "Mundo <__main__.Nodo object at 0x000002AE98317700>\n",
      "Hola None\n",
      "Nodo: <__main__.Nodo object at 0x000002AE98352410>\n",
      "Dato: Jesus390\n",
      "Siguiente: <__main__.Nodo object at 0x000002AE98352DA0>\n",
      "Nodos: <__main__.Nodos object at 0x000002AE983326E0>\n",
      "Tipo: <class '__main__.Nodos'>\n",
      "\n",
      "_AI_ <__main__.Nodo object at 0x000002AE98352410>\n",
      "Jesus390 <__main__.Nodo object at 0x000002AE98352DA0>\n",
      "ajaxathan <__main__.Nodo object at 0x000002AE9853C850>\n",
      "Mundo <__main__.Nodo object at 0x000002AE98317700>\n",
      "Hola None\n",
      "Nodo: <__main__.Nodo object at 0x000002AE9857DAE0>\n",
      "Dato: _AI_\n",
      "Siguiente: <__main__.Nodo object at 0x000002AE98352410>\n",
      "Nodos: <__main__.Nodos object at 0x000002AE983326E0>\n",
      "Tipo: <class '__main__.Nodos'>\n",
      "\n",
      "<__main__.Nodos object at 0x000002AE983326E0>\n"
     ]
    }
   ],
   "source": [
    "class Nodo:\n",
    "    def __init__(self, dato):\n",
    "        self.dato = dato\n",
    "        self.siguiente = None\n",
    "\n",
    "class Nodos:\n",
    "    def __init__(self):\n",
    "        self.nodos = None\n",
    "\n",
    "    def agregar(self, dato):\n",
    "        nodo = Nodo(dato) # crea el nodo con el dato\n",
    "        nodo.siguiente = self.nodos\n",
    "        self.nodos = nodo\n",
    "\n",
    "        self.mostrar()\n",
    "        print(f\"Nodo: {nodo}\\nDato: {nodo.dato}\\nSiguiente: {nodo.siguiente}\\nNodos: {nodos}\\nTipo: {type(nodos)}\")\n",
    "        print()\n",
    "\n",
    "    def mostrar(self):\n",
    "        nodos = self.nodos\n",
    "        while nodos:\n",
    "            print(nodos.dato, nodos.siguiente)\n",
    "            nodos = nodos.siguiente\n",
    "\n",
    "nodos = Nodos()\n",
    "nodos.agregar(\"Hola\")\n",
    "nodos.agregar(\"Mundo\")\n",
    "nodos.agregar(\"ajaxathan\")\n",
    "nodos.agregar(\"Jesus390\")\n",
    "nodos.agregar(\"_AI_\")\n",
    "print(nodos)\n",
    "# nodos.mostrar()"
   ]
  },
  {
   "cell_type": "code",
   "execution_count": 50,
   "id": "77743a0d-b7ce-4729-af77-22eb0d3eb4d4",
   "metadata": {},
   "outputs": [
    {
     "data": {
      "text/plain": [
       "(NoneType, bool, False)"
      ]
     },
     "execution_count": 50,
     "metadata": {},
     "output_type": "execute_result"
    }
   ],
   "source": [
    "type(None), type(True), bool(None)"
   ]
  }
 ],
 "metadata": {
  "kernelspec": {
   "display_name": "Python 3 (ipykernel)",
   "language": "python",
   "name": "python3"
  },
  "language_info": {
   "codemirror_mode": {
    "name": "ipython",
    "version": 3
   },
   "file_extension": ".py",
   "mimetype": "text/x-python",
   "name": "python",
   "nbconvert_exporter": "python",
   "pygments_lexer": "ipython3",
   "version": "3.10.7"
  }
 },
 "nbformat": 4,
 "nbformat_minor": 5
}
